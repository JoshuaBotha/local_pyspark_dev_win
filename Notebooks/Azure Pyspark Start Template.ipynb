{
 "cells": [
  {
   "cell_type": "code",
   "execution_count": 2,
   "id": "36d95071-9ece-45b8-80dc-26803f4eb203",
   "metadata": {},
   "outputs": [],
   "source": [
    "import pyspark"
   ]
  },
  {
   "cell_type": "code",
   "execution_count": 3,
   "id": "058f2648-135a-4503-8a03-be7c7590a1e8",
   "metadata": {},
   "outputs": [],
   "source": [
    "spark = pyspark.sql.SparkSession.builder.appName(\"pyspark_dev\") \\\n",
    "        .config(\"spark.jars.packages\",\"com.microsoft.azure:azure-storage:8.6.3\") \\\n",
    "        .config(\"spark.jars.packages\",\"org.apache.hadoop:hadoop-azure:3.3.2\") \\\n",
    "        .getOrCreate()"
   ]
  },
  {
   "cell_type": "code",
   "execution_count": null,
   "id": "96bde868-6f1a-4f70-b7e4-9e2bcb87c6c6",
   "metadata": {},
   "outputs": [],
   "source": [
    "# Happy dev-ing!"
   ]
  }
 ],
 "metadata": {
  "kernelspec": {
   "display_name": "Python 3 (ipykernel)",
   "language": "python",
   "name": "python3"
  },
  "language_info": {
   "codemirror_mode": {
    "name": "ipython",
    "version": 3
   },
   "file_extension": ".py",
   "mimetype": "text/x-python",
   "name": "python",
   "nbconvert_exporter": "python",
   "pygments_lexer": "ipython3",
   "version": "3.9.13"
  }
 },
 "nbformat": 4,
 "nbformat_minor": 5
}
