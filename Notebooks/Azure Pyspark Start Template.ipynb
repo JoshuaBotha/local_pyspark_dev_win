{
 "cells": [
  {
   "cell_type": "code",
   "execution_count": 1,
   "id": "36d95071-9ece-45b8-80dc-26803f4eb203",
   "metadata": {},
   "outputs": [],
   "source": [
    "import pyspark"
   ]
  },
  {
   "cell_type": "code",
   "execution_count": 2,
   "id": "058f2648-135a-4503-8a03-be7c7590a1e8",
   "metadata": {},
   "outputs": [],
   "source": [
    "spark = pyspark.sql.SparkSession.builder.appName(\"demo_app\") \\\n",
    "        .config(\"spark.jars.packages\",\"com.microsoft.azure:azure-storage:8.6.3\") \\\n",
    "        .config(\"spark.jars.packages\",\"org.apache.hadoop:hadoop-azure:3.3.2\") \\\n",
    "        .getOrCreate()"
   ]
  },
  {
   "cell_type": "code",
   "execution_count": 6,
   "id": "58f80f91-3ad9-4c4c-989a-41701c8c37d2",
   "metadata": {},
   "outputs": [],
   "source": [
    "df = spark.read.json(\"credit_note_LoadTS=20230209T114426Z.json\")"
   ]
  },
  {
   "cell_type": "code",
   "execution_count": 9,
   "id": "864dab91-29e0-4248-b56c-030b76c7d612",
   "metadata": {},
   "outputs": [],
   "source": [
    "from pyspark.sql import functions as F"
   ]
  },
  {
   "cell_type": "code",
   "execution_count": 14,
   "id": "d739d341-f80b-496c-9c53-fd6a7ab2c73e",
   "metadata": {},
   "outputs": [
    {
     "name": "stdout",
     "output_type": "stream",
     "text": [
      "+--------------------+--------------------+--------------------+--------------+--------------------+------+\n",
      "|         CreditNotes|         DateTimeUTC|                  Id|  ProviderName| ReplicationDateTime|Status|\n",
      "+--------------------+--------------------+--------------------+--------------+--------------------+------+\n",
      "|[{[], null, {[], ...|/Date(16759430843...|2ec55dd3-3f1f-488...|Azure DataLake|2023-02-09T11:44:...|    OK|\n",
      "|[{[], null, {[], ...|/Date(16759430854...|90c84bdc-193e-438...|Azure DataLake|2023-02-09T11:44:...|    OK|\n",
      "|[{[{8439.06, /Dat...|/Date(16759430867...|76d0ea9b-6d8e-484...|Azure DataLake|2023-02-09T11:44:...|    OK|\n",
      "|[{[{7259.16, /Dat...|/Date(16759430882...|eecaa6c6-7b1e-484...|Azure DataLake|2023-02-09T11:44:...|    OK|\n",
      "|[{[{361.0, /Date(...|/Date(16759430894...|fdfb4b3f-53f5-435...|Azure DataLake|2023-02-09T11:44:...|    OK|\n",
      "|[{[], null, {[], ...|/Date(16759430904...|5334ddc6-1bbd-41b...|Azure DataLake|2023-02-09T11:44:...|    OK|\n",
      "|[{[], null, {[], ...|/Date(16759430914...|e8d58bef-60e3-467...|Azure DataLake|2023-02-09T11:44:...|    OK|\n",
      "|[{[], null, {[], ...|/Date(16759430928...|2a7e6588-cac1-4d6...|Azure DataLake|2023-02-09T11:44:...|    OK|\n",
      "|[{[{7749.47, /Dat...|/Date(16759430938...|b4286c75-b6e9-4bb...|Azure DataLake|2023-02-09T11:44:...|    OK|\n",
      "|[{[{2058.83, /Dat...|/Date(16759430950...|0f908032-8b8d-499...|Azure DataLake|2023-02-09T11:44:...|    OK|\n",
      "|[{[{30664.18, /Da...|/Date(16759430966...|dccf9aac-2235-4e3...|Azure DataLake|2023-02-09T11:44:...|    OK|\n",
      "|[{[], null, {[], ...|/Date(16759430977...|10de4053-d9b8-40c...|Azure DataLake|2023-02-09T11:44:...|    OK|\n",
      "|[{[{21772.43, /Da...|/Date(16759430987...|37b570f0-b09f-420...|Azure DataLake|2023-02-09T11:44:...|    OK|\n",
      "|[{[{160624.87, /D...|/Date(16759430998...|14ca9da9-533c-404...|Azure DataLake|2023-02-09T11:44:...|    OK|\n",
      "|[{[{83648.0, /Dat...|/Date(16759431012...|1ca1a057-585c-4b3...|Azure DataLake|2023-02-09T11:44:...|    OK|\n",
      "|[{[{993.6, /Date(...|/Date(16759431082...|d26eeb68-a0c6-4ef...|Azure DataLake|2023-02-09T11:44:...|    OK|\n",
      "|[{[{525.72, /Date...|/Date(16759431090...|042bb6d7-4731-4d2...|Azure DataLake|2023-02-09T11:44:...|    OK|\n",
      "|[{[{865.95, /Date...|/Date(16759431156...|0f8ff8c9-ab14-402...|Azure DataLake|2023-02-09T11:44:...|    OK|\n",
      "|[{[{3029.3, /Date...|/Date(16759431167...|e1f37acb-bbcd-4ec...|Azure DataLake|2023-02-09T11:44:...|    OK|\n",
      "|[{[{2446.73, /Dat...|/Date(16759431181...|72054b2f-05fa-40e...|Azure DataLake|2023-02-09T11:44:...|    OK|\n",
      "+--------------------+--------------------+--------------------+--------------+--------------------+------+\n",
      "only showing top 20 rows\n",
      "\n"
     ]
    }
   ],
   "source": [
    "df.show()"
   ]
  },
  {
   "cell_type": "code",
   "execution_count": 36,
   "id": "752b7b02-a977-430e-ac09-ca8c60d03b31",
   "metadata": {},
   "outputs": [],
   "source": [
    "df_exp = df.select([F.explode(\"CreditNotes\").alias(\"jsons\"), \"ReplicationDateTime\"]).select([F.expr(\"jsons.*\"), \"ReplicationDateTime\"])"
   ]
  },
  {
   "cell_type": "code",
   "execution_count": 38,
   "id": "9f3833b5-bd2f-464a-87ca-a793b837a5eb",
   "metadata": {},
   "outputs": [
    {
     "name": "stdout",
     "output_type": "stream",
     "text": [
      "root\n",
      " |-- Allocations: array (nullable = true)\n",
      " |    |-- element: struct (containsNull = true)\n",
      " |    |    |-- Amount: double (nullable = true)\n",
      " |    |    |-- Date: string (nullable = true)\n",
      " |    |    |-- Invoice: struct (nullable = true)\n",
      " |    |    |    |-- CreditNotes: array (nullable = true)\n",
      " |    |    |    |    |-- element: string (containsNull = true)\n",
      " |    |    |    |-- HasErrors: boolean (nullable = true)\n",
      " |    |    |    |-- InvoiceAddresses: array (nullable = true)\n",
      " |    |    |    |    |-- element: string (containsNull = true)\n",
      " |    |    |    |-- InvoiceID: string (nullable = true)\n",
      " |    |    |    |-- InvoiceNumber: string (nullable = true)\n",
      " |    |    |    |-- InvoicePaymentServices: array (nullable = true)\n",
      " |    |    |    |    |-- element: string (containsNull = true)\n",
      " |    |    |    |-- IsDiscounted: boolean (nullable = true)\n",
      " |    |    |    |-- LineItems: array (nullable = true)\n",
      " |    |    |    |    |-- element: string (containsNull = true)\n",
      " |    |    |    |-- Overpayments: array (nullable = true)\n",
      " |    |    |    |    |-- element: string (containsNull = true)\n",
      " |    |    |    |-- Payments: array (nullable = true)\n",
      " |    |    |    |    |-- element: string (containsNull = true)\n",
      " |    |    |    |-- Prepayments: array (nullable = true)\n",
      " |    |    |    |    |-- element: string (containsNull = true)\n",
      " |-- BrandingThemeID: string (nullable = true)\n",
      " |-- Contact: struct (nullable = true)\n",
      " |    |-- Addresses: array (nullable = true)\n",
      " |    |    |-- element: string (containsNull = true)\n",
      " |    |-- ContactGroups: array (nullable = true)\n",
      " |    |    |-- element: string (containsNull = true)\n",
      " |    |-- ContactID: string (nullable = true)\n",
      " |    |-- ContactNumber: string (nullable = true)\n",
      " |    |-- ContactPersons: array (nullable = true)\n",
      " |    |    |-- element: string (containsNull = true)\n",
      " |    |-- HasValidationErrors: boolean (nullable = true)\n",
      " |    |-- Name: string (nullable = true)\n",
      " |    |-- Phones: array (nullable = true)\n",
      " |    |    |-- element: string (containsNull = true)\n",
      " |-- CreditNoteID: string (nullable = true)\n",
      " |-- CreditNoteNumber: string (nullable = true)\n",
      " |-- CurrencyCode: string (nullable = true)\n",
      " |-- CurrencyRate: double (nullable = true)\n",
      " |-- Date: string (nullable = true)\n",
      " |-- DateString: string (nullable = true)\n",
      " |-- DueDate: string (nullable = true)\n",
      " |-- DueDateString: string (nullable = true)\n",
      " |-- FullyPaidOnDate: string (nullable = true)\n",
      " |-- HasAttachments: boolean (nullable = true)\n",
      " |-- HasErrors: boolean (nullable = true)\n",
      " |-- ID: string (nullable = true)\n",
      " |-- LineAmountTypes: string (nullable = true)\n",
      " |-- LineItems: array (nullable = true)\n",
      " |    |-- element: struct (containsNull = true)\n",
      " |    |    |-- AccountCode: string (nullable = true)\n",
      " |    |    |-- Description: string (nullable = true)\n",
      " |    |    |-- DiscountRate: double (nullable = true)\n",
      " |    |    |-- Item: struct (nullable = true)\n",
      " |    |    |    |-- Code: string (nullable = true)\n",
      " |    |    |    |-- ItemID: string (nullable = true)\n",
      " |    |    |    |-- Name: string (nullable = true)\n",
      " |    |    |-- ItemCode: string (nullable = true)\n",
      " |    |    |-- LineAmount: double (nullable = true)\n",
      " |    |    |-- Quantity: double (nullable = true)\n",
      " |    |    |-- TaxAmount: double (nullable = true)\n",
      " |    |    |-- TaxType: string (nullable = true)\n",
      " |    |    |-- Tracking: array (nullable = true)\n",
      " |    |    |    |-- element: struct (containsNull = true)\n",
      " |    |    |    |    |-- Name: string (nullable = true)\n",
      " |    |    |    |    |-- Option: string (nullable = true)\n",
      " |    |    |    |    |-- Options: array (nullable = true)\n",
      " |    |    |    |    |    |-- element: string (containsNull = true)\n",
      " |    |    |    |    |-- TrackingCategoryID: string (nullable = true)\n",
      " |    |    |-- UnitAmount: double (nullable = true)\n",
      " |-- Payments: array (nullable = true)\n",
      " |    |-- element: struct (containsNull = true)\n",
      " |    |    |-- Amount: double (nullable = true)\n",
      " |    |    |-- CurrencyRate: double (nullable = true)\n",
      " |    |    |-- Date: string (nullable = true)\n",
      " |    |    |-- HasAccount: boolean (nullable = true)\n",
      " |    |    |-- HasValidationErrors: boolean (nullable = true)\n",
      " |    |    |-- PaymentID: string (nullable = true)\n",
      " |    |    |-- Reference: string (nullable = true)\n",
      " |-- Reference: string (nullable = true)\n",
      " |-- RemainingCredit: double (nullable = true)\n",
      " |-- SentToContact: boolean (nullable = true)\n",
      " |-- Status: string (nullable = true)\n",
      " |-- SubTotal: double (nullable = true)\n",
      " |-- Total: double (nullable = true)\n",
      " |-- TotalTax: double (nullable = true)\n",
      " |-- Type: string (nullable = true)\n",
      " |-- UpdatedDateUTC: string (nullable = true)\n",
      " |-- ReplicationDateTime: string (nullable = true)\n",
      "\n"
     ]
    }
   ],
   "source": [
    "df_exp.printSchema()"
   ]
  },
  {
   "cell_type": "code",
   "execution_count": 37,
   "id": "7453da97-d065-495b-b0c9-bffcdfd42bdd",
   "metadata": {},
   "outputs": [
    {
     "name": "stdout",
     "output_type": "stream",
     "text": [
      "+-----------+---------------+--------------------+--------------------+----------------+------------+------------+--------------------+-------------------+-------+-------------+---------------+--------------+---------+--------------------+---------------+--------------------+--------+-------------------+---------------+-------------+-------+---------+---------+--------+------------+--------------------+--------------------+\n",
      "|Allocations|BrandingThemeID|             Contact|        CreditNoteID|CreditNoteNumber|CurrencyCode|CurrencyRate|                Date|         DateString|DueDate|DueDateString|FullyPaidOnDate|HasAttachments|HasErrors|                  ID|LineAmountTypes|           LineItems|Payments|          Reference|RemainingCredit|SentToContact| Status| SubTotal|    Total|TotalTax|        Type|      UpdatedDateUTC| ReplicationDateTime|\n",
      "+-----------+---------------+--------------------+--------------------+----------------+------------+------------+--------------------+-------------------+-------+-------------+---------------+--------------+---------+--------------------+---------------+--------------------+--------+-------------------+---------------+-------------+-------+---------+---------+--------+------------+--------------------+--------------------+\n",
      "|         []|           null|{[], [], 16fe8013...|401098e5-e756-4fc...|        JSC10446|         ZAR|        null|/Date(14604192000...|2016-04-12T00:00:00|   null|         null|           null|         false|    false|401098e5-e756-4fc...|      Exclusive|[{CN-002.1, Snom ...|      []|         JSQ1402073|         4148.0|         null|DELETED|   3638.6|   4148.0|   509.4|ACCRECCREDIT|/Date(14961937535...|2023-02-09T11:44:...|\n",
      "|         []|           null|{[], [], 16fe8013...|d479895c-c560-480...|        JSC10445|         ZAR|        null|/Date(14604192000...|2016-04-12T00:00:00|   null|         null|           null|         false|    false|d479895c-c560-480...|      Exclusive|[{CN-002.1, SNOM-...|      []|                   |       19053.45|         null|DELETED| 16713.55| 19053.45|  2339.9|ACCRECCREDIT|/Date(14961937536...|2023-02-09T11:44:...|\n",
      "|         []|           null|{[], [], cd9675d2...|ca365b4e-92a1-47a...|        JSC10485|         ZAR|        null|/Date(14629248000...|2016-05-11T00:00:00|   null|         null|           null|         false|    false|ca365b4e-92a1-47a...|      Exclusive|[{CS-022, 4 CORE ...|      []|Estimate-JSQ1402043|       16663.95|         null|DELETED|  14617.5| 16663.95| 2046.45|ACCRECCREDIT|/Date(14961937548...|2023-02-09T11:44:...|\n",
      "|         []|           null|{[], [], 4f0f4e1c...|90792371-14c8-43f...|        JSC10488|         ZAR|        null|/Date(14630976000...|2016-05-13T00:00:00|   null|         null|           null|         false|    false|90792371-14c8-43f...|      Exclusive|[{CN-002.1, Work ...|      []|            Aluwani|          684.0|         null|DELETED|    600.0|    684.0|    84.0|ACCRECCREDIT|/Date(14961937549...|2023-02-09T11:44:...|\n",
      "|         []|           null|{[], [], 4f0f4e1c...|08eb1eea-e400-4ae...|        JSC10498|         ZAR|        null|/Date(14642208000...|2016-05-26T00:00:00|   null|         null|           null|         false|    false|08eb1eea-e400-4ae...|      Exclusive|[{CN-002.1, Work ...|      []|                   |          684.0|         null|DELETED|    600.0|    684.0|    84.0|ACCRECCREDIT|/Date(14961937552...|2023-02-09T11:44:...|\n",
      "|         []|           null|{[], [], d42fe419...|3bf2f799-9509-472...|        JSC10526|         ZAR|        null|/Date(14666400000...|2016-06-23T00:00:00|   null|         null|           null|         false|    false|3bf2f799-9509-472...|      Exclusive|[{CN-002.2, Settl...|      []|          JSI104783|        26830.0|         null|DELETED| 23535.09|  26830.0| 3294.91|ACCRECCREDIT|/Date(14961937561...|2023-02-09T11:44:...|\n",
      "|         []|           null|{[], [], 4f0f4e1c...|f9b83760-3236-415...|        JSC10560|         ZAR|        null|/Date(14690592000...|2016-07-21T00:00:00|   null|         null|           null|         false|    false|f9b83760-3236-415...|      Exclusive|[{CS-022, Work Pe...|      []|                   |          684.0|         null|DELETED|    600.0|    684.0|    84.0|ACCRECCREDIT|/Date(14961937571...|2023-02-09T11:44:...|\n",
      "|         []|           null|{[], [], 137224d3...|a692d987-fa43-45f...|        JSC10600|         ZAR|        null|/Date(14713056000...|2016-08-16T00:00:00|   null|         null|           null|         false|    false|a692d987-fa43-45f...|      Exclusive|[{CN-002.1, Merak...|      []|       MOA Gardware|       59403.87|         null|DELETED| 52108.65| 59403.87| 7295.22|ACCRECCREDIT|/Date(14961937743...|2023-02-09T11:44:...|\n",
      "|         []|           null|{[], [], 22eaa66c...|aec2e592-1bb2-4d8...|        JSC10633|         ZAR|        null|/Date(14730336000...|2016-09-05T00:00:00|   null|         null|           null|         false|    false|aec2e592-1bb2-4d8...|      Exclusive|[{CN-002.1, Merak...|      []|           PO-10003|       49369.58|         null|DELETED| 43306.65| 49369.58| 6062.93|ACCRECCREDIT|/Date(14961937756...|2023-02-09T11:44:...|\n",
      "|         []|           null|{[], [], 16fe8013...|7b21a102-a403-481...|        JSC10644|         ZAR|        null|/Date(14737248000...|2016-09-13T00:00:00|   null|         null|           null|         false|    false|7b21a102-a403-481...|      Exclusive|[{CN-002.1, Jurum...|      []|                   |         7866.0|         null|DELETED|   6900.0|   7866.0|   966.0|ACCRECCREDIT|/Date(14961937762...|2023-02-09T11:44:...|\n",
      "|         []|           null|{[], [], 2e0f0dd7...|98214577-75b0-4ba...|        JSC10698|         ZAR|        null|/Date(14763168000...|2016-10-13T00:00:00|   null|         null|           null|         false|    false|98214577-75b0-4ba...|      Exclusive|[{CN-002.1, Merak...|      []|         JSQ1402427|       28873.52|         null|DELETED| 25327.65| 28873.52| 3545.87|ACCRECCREDIT|/Date(14961937782...|2023-02-09T11:44:...|\n",
      "|         []|           null|{[], [], 7c7ef85e...|89bb5516-34b2-4df...|        JSC10697|         ZAR|        null|/Date(14763168000...|2016-10-13T00:00:00|   null|         null|           null|         false|    false|89bb5516-34b2-4df...|      Exclusive|[{CN-002.1, Merak...|      []|         JSQ1402365|         9496.2|         null|DELETED|   8330.0|   9496.2|  1166.2|ACCRECCREDIT|/Date(14961937783...|2023-02-09T11:44:...|\n",
      "|         []|           null|{[], [], 22eaa66c...|c1096c1c-5472-4a4...|        JSC10704|         ZAR|        null|/Date(14770080000...|2016-10-21T00:00:00|   null|         null|           null|         false|    false|c1096c1c-5472-4a4...|      Exclusive|[{CN-002.1, Merak...|      []|           PO-10003|      123290.53|         null|DELETED|108149.58|123290.53|15140.95|ACCRECCREDIT|/Date(14961937784...|2023-02-09T11:44:...|\n",
      "|         []|           null|{[], [], ed41aba1...|9e9d5103-cc05-42a...|        JSC10739|         ZAR|        null|/Date(14780448000...|2016-11-02T00:00:00|   null|         null|           null|         false|    false|9e9d5103-cc05-42a...|      Exclusive|[{CN-002.1, Merak...|      []|         JSQ1402430|       16987.88|         null|DELETED| 14901.65| 16987.88| 2086.23|ACCRECCREDIT|/Date(14961937796...|2023-02-09T11:44:...|\n",
      "|         []|           null|{[], [], 4c1b6d05...|158b244c-f7d0-4cd...|        JSC10750|         ZAR|        null|/Date(14787360000...|2016-11-10T00:00:00|   null|         null|           null|         false|    false|158b244c-f7d0-4cd...|      Exclusive|[{CS-022, Meraki ...|      []|                   |       20716.66|         null|DELETED| 18172.51| 20716.66| 2544.15|ACCRECCREDIT|/Date(14961937801...|2023-02-09T11:44:...|\n",
      "|         []|           null|{[], [], 9c9a3b7d...|a3d6cb14-1858-46d...|        JSC10863|         ZAR|        null|/Date(14858208000...|2017-01-31T00:00:00|   null|         null|           null|         false|    false|a3d6cb14-1858-46d...|      Exclusive|[{CN-002.1, Merak...|      []|         JSQ1402571|       186685.7|         null|DELETED|163759.38| 186685.7|22926.32|ACCRECCREDIT|/Date(14961937964...|2023-02-09T11:44:...|\n",
      "|         []|           null|{[], [], 8ab8926d...|a2c7e451-7557-433...|        JSC10862|         ZAR|        null|/Date(14858208000...|2017-01-31T00:00:00|   null|         null|           null|         false|    false|a2c7e451-7557-433...|      Exclusive|[{CN-002.1, Merak...|      []|         JSQ1402600|       33460.14|         null|DELETED|  29351.0| 33460.14| 4109.14|ACCRECCREDIT|/Date(14961937965...|2023-02-09T11:44:...|\n",
      "|         []|           null|{[], [], 6b1bcb49...|5a43f219-b628-40d...|       JSC10917*|         ZAR|        null|/Date(14872896000...|2017-02-17T00:00:00|   null|         null|           null|         false|    false|5a43f219-b628-40d...|      Exclusive|[{null, Rental fo...|      []|                   |         2280.0|         null|DELETED|   2000.0|   2280.0|   280.0|ACCRECCREDIT|/Date(14961937983...|2023-02-09T11:44:...|\n",
      "|         []|           null|{[], [], 4f0f4e1c...|0a297a3b-f25f-4fe...|       JSC10921*|         ZAR|        null|/Date(14877216000...|2017-02-22T00:00:00|   null|         null|           null|         false|    false|0a297a3b-f25f-4fe...|      Exclusive|[{null, Work perf...|      []|                   |        3610.15|         null|DELETED|   3166.8|  3610.15|  443.35|ACCRECCREDIT|/Date(14961937984...|2023-02-09T11:44:...|\n",
      "|         []|           null|{[], [], 4f0f4e1c...|e8b949ec-9a57-467...|       JSC10920*|         ZAR|        null|/Date(14877216000...|2017-02-22T00:00:00|   null|         null|           null|         false|    false|e8b949ec-9a57-467...|      Exclusive|[{null, Work perf...|      []|           INV13452|       12941.51|         null|DELETED|  11352.2| 12941.51| 1589.31|ACCRECCREDIT|/Date(14961937985...|2023-02-09T11:44:...|\n",
      "+-----------+---------------+--------------------+--------------------+----------------+------------+------------+--------------------+-------------------+-------+-------------+---------------+--------------+---------+--------------------+---------------+--------------------+--------+-------------------+---------------+-------------+-------+---------+---------+--------+------------+--------------------+--------------------+\n",
      "only showing top 20 rows\n",
      "\n"
     ]
    }
   ],
   "source": [
    "df_exp.show()"
   ]
  },
  {
   "cell_type": "code",
   "execution_count": 34,
   "id": "b502a9ec-6cd1-4de0-87d3-a1c59b850531",
   "metadata": {},
   "outputs": [],
   "source": [
    "df_exp_2 = df_exp.select(F.expr(\"jsons.*\"))"
   ]
  },
  {
   "cell_type": "code",
   "execution_count": 35,
   "id": "da2874e2-43ec-48e3-a3f2-43e829e71eb6",
   "metadata": {},
   "outputs": [
    {
     "name": "stdout",
     "output_type": "stream",
     "text": [
      "+-----------+---------------+--------------------+--------------------+----------------+------------+------------+--------------------+-------------------+-------+-------------+---------------+--------------+---------+--------------------+---------------+--------------------+--------+-------------------+---------------+-------------+-------+---------+---------+--------+------------+--------------------+\n",
      "|Allocations|BrandingThemeID|             Contact|        CreditNoteID|CreditNoteNumber|CurrencyCode|CurrencyRate|                Date|         DateString|DueDate|DueDateString|FullyPaidOnDate|HasAttachments|HasErrors|                  ID|LineAmountTypes|           LineItems|Payments|          Reference|RemainingCredit|SentToContact| Status| SubTotal|    Total|TotalTax|        Type|      UpdatedDateUTC|\n",
      "+-----------+---------------+--------------------+--------------------+----------------+------------+------------+--------------------+-------------------+-------+-------------+---------------+--------------+---------+--------------------+---------------+--------------------+--------+-------------------+---------------+-------------+-------+---------+---------+--------+------------+--------------------+\n",
      "|         []|           null|{[], [], 16fe8013...|401098e5-e756-4fc...|        JSC10446|         ZAR|        null|/Date(14604192000...|2016-04-12T00:00:00|   null|         null|           null|         false|    false|401098e5-e756-4fc...|      Exclusive|[{CN-002.1, Snom ...|      []|         JSQ1402073|         4148.0|         null|DELETED|   3638.6|   4148.0|   509.4|ACCRECCREDIT|/Date(14961937535...|\n",
      "|         []|           null|{[], [], 16fe8013...|d479895c-c560-480...|        JSC10445|         ZAR|        null|/Date(14604192000...|2016-04-12T00:00:00|   null|         null|           null|         false|    false|d479895c-c560-480...|      Exclusive|[{CN-002.1, SNOM-...|      []|                   |       19053.45|         null|DELETED| 16713.55| 19053.45|  2339.9|ACCRECCREDIT|/Date(14961937536...|\n",
      "|         []|           null|{[], [], cd9675d2...|ca365b4e-92a1-47a...|        JSC10485|         ZAR|        null|/Date(14629248000...|2016-05-11T00:00:00|   null|         null|           null|         false|    false|ca365b4e-92a1-47a...|      Exclusive|[{CS-022, 4 CORE ...|      []|Estimate-JSQ1402043|       16663.95|         null|DELETED|  14617.5| 16663.95| 2046.45|ACCRECCREDIT|/Date(14961937548...|\n",
      "|         []|           null|{[], [], 4f0f4e1c...|90792371-14c8-43f...|        JSC10488|         ZAR|        null|/Date(14630976000...|2016-05-13T00:00:00|   null|         null|           null|         false|    false|90792371-14c8-43f...|      Exclusive|[{CN-002.1, Work ...|      []|            Aluwani|          684.0|         null|DELETED|    600.0|    684.0|    84.0|ACCRECCREDIT|/Date(14961937549...|\n",
      "|         []|           null|{[], [], 4f0f4e1c...|08eb1eea-e400-4ae...|        JSC10498|         ZAR|        null|/Date(14642208000...|2016-05-26T00:00:00|   null|         null|           null|         false|    false|08eb1eea-e400-4ae...|      Exclusive|[{CN-002.1, Work ...|      []|                   |          684.0|         null|DELETED|    600.0|    684.0|    84.0|ACCRECCREDIT|/Date(14961937552...|\n",
      "|         []|           null|{[], [], d42fe419...|3bf2f799-9509-472...|        JSC10526|         ZAR|        null|/Date(14666400000...|2016-06-23T00:00:00|   null|         null|           null|         false|    false|3bf2f799-9509-472...|      Exclusive|[{CN-002.2, Settl...|      []|          JSI104783|        26830.0|         null|DELETED| 23535.09|  26830.0| 3294.91|ACCRECCREDIT|/Date(14961937561...|\n",
      "|         []|           null|{[], [], 4f0f4e1c...|f9b83760-3236-415...|        JSC10560|         ZAR|        null|/Date(14690592000...|2016-07-21T00:00:00|   null|         null|           null|         false|    false|f9b83760-3236-415...|      Exclusive|[{CS-022, Work Pe...|      []|                   |          684.0|         null|DELETED|    600.0|    684.0|    84.0|ACCRECCREDIT|/Date(14961937571...|\n",
      "|         []|           null|{[], [], 137224d3...|a692d987-fa43-45f...|        JSC10600|         ZAR|        null|/Date(14713056000...|2016-08-16T00:00:00|   null|         null|           null|         false|    false|a692d987-fa43-45f...|      Exclusive|[{CN-002.1, Merak...|      []|       MOA Gardware|       59403.87|         null|DELETED| 52108.65| 59403.87| 7295.22|ACCRECCREDIT|/Date(14961937743...|\n",
      "|         []|           null|{[], [], 22eaa66c...|aec2e592-1bb2-4d8...|        JSC10633|         ZAR|        null|/Date(14730336000...|2016-09-05T00:00:00|   null|         null|           null|         false|    false|aec2e592-1bb2-4d8...|      Exclusive|[{CN-002.1, Merak...|      []|           PO-10003|       49369.58|         null|DELETED| 43306.65| 49369.58| 6062.93|ACCRECCREDIT|/Date(14961937756...|\n",
      "|         []|           null|{[], [], 16fe8013...|7b21a102-a403-481...|        JSC10644|         ZAR|        null|/Date(14737248000...|2016-09-13T00:00:00|   null|         null|           null|         false|    false|7b21a102-a403-481...|      Exclusive|[{CN-002.1, Jurum...|      []|                   |         7866.0|         null|DELETED|   6900.0|   7866.0|   966.0|ACCRECCREDIT|/Date(14961937762...|\n",
      "|         []|           null|{[], [], 2e0f0dd7...|98214577-75b0-4ba...|        JSC10698|         ZAR|        null|/Date(14763168000...|2016-10-13T00:00:00|   null|         null|           null|         false|    false|98214577-75b0-4ba...|      Exclusive|[{CN-002.1, Merak...|      []|         JSQ1402427|       28873.52|         null|DELETED| 25327.65| 28873.52| 3545.87|ACCRECCREDIT|/Date(14961937782...|\n",
      "|         []|           null|{[], [], 7c7ef85e...|89bb5516-34b2-4df...|        JSC10697|         ZAR|        null|/Date(14763168000...|2016-10-13T00:00:00|   null|         null|           null|         false|    false|89bb5516-34b2-4df...|      Exclusive|[{CN-002.1, Merak...|      []|         JSQ1402365|         9496.2|         null|DELETED|   8330.0|   9496.2|  1166.2|ACCRECCREDIT|/Date(14961937783...|\n",
      "|         []|           null|{[], [], 22eaa66c...|c1096c1c-5472-4a4...|        JSC10704|         ZAR|        null|/Date(14770080000...|2016-10-21T00:00:00|   null|         null|           null|         false|    false|c1096c1c-5472-4a4...|      Exclusive|[{CN-002.1, Merak...|      []|           PO-10003|      123290.53|         null|DELETED|108149.58|123290.53|15140.95|ACCRECCREDIT|/Date(14961937784...|\n",
      "|         []|           null|{[], [], ed41aba1...|9e9d5103-cc05-42a...|        JSC10739|         ZAR|        null|/Date(14780448000...|2016-11-02T00:00:00|   null|         null|           null|         false|    false|9e9d5103-cc05-42a...|      Exclusive|[{CN-002.1, Merak...|      []|         JSQ1402430|       16987.88|         null|DELETED| 14901.65| 16987.88| 2086.23|ACCRECCREDIT|/Date(14961937796...|\n",
      "|         []|           null|{[], [], 4c1b6d05...|158b244c-f7d0-4cd...|        JSC10750|         ZAR|        null|/Date(14787360000...|2016-11-10T00:00:00|   null|         null|           null|         false|    false|158b244c-f7d0-4cd...|      Exclusive|[{CS-022, Meraki ...|      []|                   |       20716.66|         null|DELETED| 18172.51| 20716.66| 2544.15|ACCRECCREDIT|/Date(14961937801...|\n",
      "|         []|           null|{[], [], 9c9a3b7d...|a3d6cb14-1858-46d...|        JSC10863|         ZAR|        null|/Date(14858208000...|2017-01-31T00:00:00|   null|         null|           null|         false|    false|a3d6cb14-1858-46d...|      Exclusive|[{CN-002.1, Merak...|      []|         JSQ1402571|       186685.7|         null|DELETED|163759.38| 186685.7|22926.32|ACCRECCREDIT|/Date(14961937964...|\n",
      "|         []|           null|{[], [], 8ab8926d...|a2c7e451-7557-433...|        JSC10862|         ZAR|        null|/Date(14858208000...|2017-01-31T00:00:00|   null|         null|           null|         false|    false|a2c7e451-7557-433...|      Exclusive|[{CN-002.1, Merak...|      []|         JSQ1402600|       33460.14|         null|DELETED|  29351.0| 33460.14| 4109.14|ACCRECCREDIT|/Date(14961937965...|\n",
      "|         []|           null|{[], [], 6b1bcb49...|5a43f219-b628-40d...|       JSC10917*|         ZAR|        null|/Date(14872896000...|2017-02-17T00:00:00|   null|         null|           null|         false|    false|5a43f219-b628-40d...|      Exclusive|[{null, Rental fo...|      []|                   |         2280.0|         null|DELETED|   2000.0|   2280.0|   280.0|ACCRECCREDIT|/Date(14961937983...|\n",
      "|         []|           null|{[], [], 4f0f4e1c...|0a297a3b-f25f-4fe...|       JSC10921*|         ZAR|        null|/Date(14877216000...|2017-02-22T00:00:00|   null|         null|           null|         false|    false|0a297a3b-f25f-4fe...|      Exclusive|[{null, Work perf...|      []|                   |        3610.15|         null|DELETED|   3166.8|  3610.15|  443.35|ACCRECCREDIT|/Date(14961937984...|\n",
      "|         []|           null|{[], [], 4f0f4e1c...|e8b949ec-9a57-467...|       JSC10920*|         ZAR|        null|/Date(14877216000...|2017-02-22T00:00:00|   null|         null|           null|         false|    false|e8b949ec-9a57-467...|      Exclusive|[{null, Work perf...|      []|           INV13452|       12941.51|         null|DELETED|  11352.2| 12941.51| 1589.31|ACCRECCREDIT|/Date(14961937985...|\n",
      "+-----------+---------------+--------------------+--------------------+----------------+------------+------------+--------------------+-------------------+-------+-------------+---------------+--------------+---------+--------------------+---------------+--------------------+--------+-------------------+---------------+-------------+-------+---------+---------+--------+------------+--------------------+\n",
      "only showing top 20 rows\n",
      "\n"
     ]
    }
   ],
   "source": [
    "df_exp_2.show()"
   ]
  }
 ],
 "metadata": {
  "kernelspec": {
   "display_name": "Python 3 (ipykernel)",
   "language": "python",
   "name": "python3"
  },
  "language_info": {
   "codemirror_mode": {
    "name": "ipython",
    "version": 3
   },
   "file_extension": ".py",
   "mimetype": "text/x-python",
   "name": "python",
   "nbconvert_exporter": "python",
   "pygments_lexer": "ipython3",
   "version": "3.9.13"
  }
 },
 "nbformat": 4,
 "nbformat_minor": 5
}
